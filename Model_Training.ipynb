{
 "cells": [
  {
   "cell_type": "markdown",
   "id": "29f2b05d",
   "metadata": {},
   "source": [
    "# 🚀 Car Insurance Claim Prediction — Model Training & Evaluation\n",
    "\n",
    "This notebook trains and evaluates multiple classification models.\n"
   ]
  },
  {
   "cell_type": "code",
   "execution_count": 1,
   "id": "b8122a3e",
   "metadata": {},
   "outputs": [],
   "source": [
    "import pandas as pd\n",
    "import numpy as np\n"
   ]
  },
  {
   "cell_type": "code",
   "execution_count": 2,
   "id": "124d2f67",
   "metadata": {},
   "outputs": [],
   "source": [
    "\n",
    "import joblib\n",
    "import os"
   ]
  },
  {
   "cell_type": "code",
   "execution_count": 3,
   "id": "eccc6ba3",
   "metadata": {},
   "outputs": [],
   "source": [
    "from sklearn.model_selection import cross_val_score\n",
    "from sklearn.linear_model import LogisticRegression\n"
   ]
  },
  {
   "cell_type": "code",
   "execution_count": 4,
   "id": "93c1276c",
   "metadata": {},
   "outputs": [],
   "source": [
    "from sklearn.tree import DecisionTreeClassifier\n",
    "from sklearn.ensemble import RandomForestClassifier"
   ]
  },
  {
   "cell_type": "code",
   "execution_count": 5,
   "id": "d7bb1808",
   "metadata": {},
   "outputs": [],
   "source": [
    "from xgboost import XGBClassifier\n",
    "from lightgbm import LGBMClassifier"
   ]
  },
  {
   "cell_type": "code",
   "execution_count": 6,
   "id": "e73fd809",
   "metadata": {},
   "outputs": [],
   "source": [
    "from sklearn.metrics import (\n",
    "    accuracy_score, confusion_matrix, classification_report, roc_auc_score,\n",
    "    roc_curve, auc\n",
    ")"
   ]
  },
  {
   "cell_type": "code",
   "execution_count": 7,
   "id": "426847ca",
   "metadata": {},
   "outputs": [],
   "source": [
    "import matplotlib.pyplot as plt\n",
    "import seaborn as sns"
   ]
  },
  {
   "cell_type": "code",
   "execution_count": 8,
   "id": "5fa34e95",
   "metadata": {},
   "outputs": [],
   "source": [
    "# Load train/val data again\n",
    "base_path = \"car_insurance_data\"\n",
    "train_df = pd.read_csv(os.path.join(base_path, \"train.csv\"))\n"
   ]
  },
  {
   "cell_type": "code",
   "execution_count": 9,
   "id": "c1628fe9",
   "metadata": {},
   "outputs": [],
   "source": [
    "# Split into X, y\n",
    "target_col = \"is_claim\"\n",
    "X = train_df.drop(columns=[target_col, \"policy_id\"])\n",
    "y = train_df[target_col]"
   ]
  },
  {
   "cell_type": "code",
   "execution_count": 10,
   "id": "ba52843d",
   "metadata": {},
   "outputs": [
    {
     "name": "stdout",
     "output_type": "stream",
     "text": [
      "✅ Data loaded and ready for preprocessing.\n"
     ]
    }
   ],
   "source": [
    "print(\"✅ Data loaded and ready for preprocessing.\")"
   ]
  },
  {
   "cell_type": "code",
   "execution_count": 11,
   "id": "77546a37",
   "metadata": {},
   "outputs": [
    {
     "name": "stdout",
     "output_type": "stream",
     "text": [
      "Train: (46873, 16)  Validation: (11719, 16)\n",
      "Logistic Regression: AUC = 1.0000\n",
      "Decision Tree: AUC = 1.0000\n"
     ]
    },
    {
     "name": "stderr",
     "output_type": "stream",
     "text": [
      "C:\\Users\\DELL\\AppData\\Local\\Temp\\ipykernel_4964\\168934264.py:37: FutureWarning: \n",
      "\n",
      "Passing `palette` without assigning `hue` is deprecated and will be removed in v0.14.0. Assign the `y` variable to `hue` and set `legend=False` for the same effect.\n",
      "\n",
      "  sns.barplot(x=list(results.values()), y=list(results.keys()), palette=\"mako\")\n"
     ]
    },
    {
     "data": {
      "image/png": "[encoded data removed]",
      "text/plain": [
       "<Figure size 640x480 with 1 Axes>"
      ]
     },
     "metadata": {},
     "output_type": "display_data"
    }
   ],
   "source": [
    "from sklearn.model_selection import train_test_split\n",
    "from sklearn.preprocessing import LabelEncoder\n",
    "from sklearn.linear_model import LogisticRegression\n",
    "from sklearn.tree import DecisionTreeClassifier\n",
    "from sklearn.metrics import classification_report, confusion_matrix, roc_auc_score\n",
    "import numpy as np\n",
    "import seaborn as sns\n",
    "import matplotlib.pyplot as plt\n",
    "\n",
    "# Select numeric columns only (quick test)\n",
    "X_num = train_df.select_dtypes(include=[np.number])\n",
    "y = train_df[\"is_claim\"]\n",
    "\n",
    "# Train-test split\n",
    "X_train, X_val, y_train, y_val = train_test_split(\n",
    "    X_num, y, test_size=0.2, random_state=42, stratify=y\n",
    ")\n",
    "\n",
    "print(\"Train:\", X_train.shape, \" Validation:\", X_val.shape)\n",
    "\n",
    "# Baseline models\n",
    "models = {\n",
    "    \"Logistic Regression\": LogisticRegression(max_iter=1000, random_state=42),\n",
    "    \"Decision Tree\": DecisionTreeClassifier(random_state=42)\n",
    "}\n",
    "\n",
    "results = {}\n",
    "\n",
    "for name, model in models.items():\n",
    "    model.fit(X_train, y_train)\n",
    "    y_pred = model.predict(X_val)\n",
    "    auc = roc_auc_score(y_val, y_pred)\n",
    "    results[name] = auc\n",
    "    print(f\"{name}: AUC = {auc:.4f}\")\n",
    "\n",
    "# Compare\n",
    "sns.barplot(x=list(results.values()), y=list(results.keys()), palette=\"mako\")\n",
    "plt.title(\"Baseline Model AUC Comparison (Numeric Features)\")\n",
    "plt.show()\n"
   ]
  },
  {
   "cell_type": "code",
   "execution_count": 12,
   "id": "335d5a8c",
   "metadata": {},
   "outputs": [
    {
     "name": "stdout",
     "output_type": "stream",
     "text": [
      "Starting batch-wise preprocessing...\n",
      "Processed batch 1/12\n",
      "Processed batch 2/12\n",
      "Processed batch 3/12\n",
      "Processed batch 4/12\n",
      "Processed batch 5/12\n",
      "Processed batch 6/12\n",
      "Processed batch 7/12\n",
      "Processed batch 8/12\n",
      "Processed batch 9/12\n",
      "Processed batch 10/12\n",
      "Processed batch 11/12\n",
      "Processed batch 12/12\n",
      "✅ Preprocessing completed.\n",
      "Transformed shape: (58592, 127)\n"
     ]
    }
   ],
   "source": [
    "import numpy as np\n",
    "import joblib\n",
    "\n",
    "# Load the preprocessor pipeline\n",
    "preprocessor = joblib.load(\"preprocessor.pkl\")\n",
    "\n",
    "def batch_transform(preprocessor, X, batch_size=5000):\n",
    "    \"\"\"Transform data in smaller chunks to avoid freezing.\"\"\"\n",
    "    transformed_batches = []\n",
    "    for i in range(0, len(X), batch_size):\n",
    "        batch = X.iloc[i:i+batch_size]\n",
    "        transformed = preprocessor.transform(batch)\n",
    "        transformed_batches.append(transformed)\n",
    "        print(f\"Processed batch {i//batch_size + 1}/{len(X)//batch_size + 1}\")\n",
    "    return np.vstack(transformed_batches)\n",
    "\n",
    "# Select features and transform in batches\n",
    "X = train_df.drop(columns=[\"is_claim\", \"policy_id\"])\n",
    "y = train_df[\"is_claim\"]\n",
    "\n",
    "print(\"Starting batch-wise preprocessing...\")\n",
    "X_transformed = batch_transform(preprocessor, X, batch_size=5000)\n",
    "\n",
    "print(\"✅ Preprocessing completed.\")\n",
    "print(\"Transformed shape:\", X_transformed.shape)\n"
   ]
  },
  {
   "cell_type": "code",
   "execution_count": 13,
   "id": "93461efb",
   "metadata": {},
   "outputs": [
    {
     "name": "stdout",
     "output_type": "stream",
     "text": [
      "Training samples: (46873, 127)\n",
      "Validation samples: (11719, 127)\n",
      "\n",
      "🚀 Training Random Forest...\n",
      "Random Forest AUC: 0.5829\n",
      "\n",
      "🚀 Training XGBoost...\n"
     ]
    },
    {
     "name": "stderr",
     "output_type": "stream",
     "text": [
      "c:\\Users\\DELL\\OneDrive\\Desktop\\GuviFinalProject\\CarInsurancePrediction\\.venv\\Lib\\site-packages\\xgboost\\training.py:199: UserWarning: [16:11:27] WARNING: C:\\actions-runner\\_work\\xgboost\\xgboost\\src\\learner.cc:790: \n",
      "Parameters: { \"use_label_encoder\" } are not used.\n",
      "\n",
      "  bst.update(dtrain, iteration=i, fobj=obj)\n"
     ]
    },
    {
     "name": "stdout",
     "output_type": "stream",
     "text": [
      "XGBoost AUC: 0.6255\n",
      "\n",
      "🚀 Training LightGBM...\n",
      "[LightGBM] [Info] Number of positive: 2998, number of negative: 43875\n",
      "[LightGBM] [Info] Auto-choosing col-wise multi-threading, the overhead of testing was 0.010162 seconds.\n",
      "You can set `force_col_wise=true` to remove the overhead.\n",
      "[LightGBM] [Info] Total Bins 701\n",
      "[LightGBM] [Info] Number of data points in the train set: 46873, number of used features: 127\n",
      "[LightGBM] [Info] [binary:BoostFromScore]: pavg=0.063960 -> initscore=-2.683399\n",
      "[LightGBM] [Info] Start training from score -2.683399\n"
     ]
    },
    {
     "name": "stderr",
     "output_type": "stream",
     "text": [
      "c:\\Users\\DELL\\OneDrive\\Desktop\\GuviFinalProject\\CarInsurancePrediction\\.venv\\Lib\\site-packages\\sklearn\\utils\\validation.py:2749: UserWarning: X does not have valid feature names, but LGBMClassifier was fitted with feature names\n",
      "  warnings.warn(\n",
      "c:\\Users\\DELL\\OneDrive\\Desktop\\GuviFinalProject\\CarInsurancePrediction\\.venv\\Lib\\site-packages\\sklearn\\utils\\validation.py:2749: UserWarning: X does not have valid feature names, but LGBMClassifier was fitted with feature names\n",
      "  warnings.warn(\n",
      "C:\\Users\\DELL\\AppData\\Local\\Temp\\ipykernel_4964\\967236255.py:40: FutureWarning: \n",
      "\n",
      "Passing `palette` without assigning `hue` is deprecated and will be removed in v0.14.0. Assign the `y` variable to `hue` and set `legend=False` for the same effect.\n",
      "\n",
      "  sns.barplot(x=\"AUC Score\", y=\"Model\", data=results_df, palette=\"viridis\")\n"
     ]
    },
    {
     "name": "stdout",
     "output_type": "stream",
     "text": [
      "LightGBM AUC: 0.6479\n"
     ]
    },
    {
     "data": {
      "image/png": "[encoded data removed]",
      "text/plain": [
       "<Figure size 800x500 with 1 Axes>"
      ]
     },
     "metadata": {},
     "output_type": "display_data"
    },
    {
     "data": {
      "text/html": [
       "<div>\n",
       "<style scoped>\n",
       "    .dataframe tbody tr th:only-of-type {\n",
       "        vertical-align: middle;\n",
       "    }\n",
       "\n",
       "    .dataframe tbody tr th {\n",
       "        vertical-align: top;\n",
       "    }\n",
       "\n",
       "    .dataframe thead th {\n",
       "        text-align: right;\n",
       "    }\n",
       "</style>\n",
       "<table border=\"1\" class=\"dataframe\">\n",
       "  <thead>\n",
       "    <tr style=\"text-align: right;\">\n",
       "      <th></th>\n",
       "      <th>Model</th>\n",
       "      <th>AUC Score</th>\n",
       "    </tr>\n",
       "  </thead>\n",
       "  <tbody>\n",
       "    <tr>\n",
       "      <th>2</th>\n",
       "      <td>LightGBM</td>\n",
       "      <td>0.647854</td>\n",
       "    </tr>\n",
       "    <tr>\n",
       "      <th>1</th>\n",
       "      <td>XGBoost</td>\n",
       "      <td>0.625460</td>\n",
       "    </tr>\n",
       "    <tr>\n",
       "      <th>0</th>\n",
       "      <td>Random Forest</td>\n",
       "      <td>0.582854</td>\n",
       "    </tr>\n",
       "  </tbody>\n",
       "</table>\n",
       "</div>"
      ],
      "text/plain": [
       "           Model  AUC Score\n",
       "2       LightGBM   0.647854\n",
       "1        XGBoost   0.625460\n",
       "0  Random Forest   0.582854"
      ]
     },
     "execution_count": 13,
     "metadata": {},
     "output_type": "execute_result"
    }
   ],
   "source": [
    "from sklearn.model_selection import train_test_split\n",
    "from sklearn.ensemble import RandomForestClassifier\n",
    "from xgboost import XGBClassifier\n",
    "from lightgbm import LGBMClassifier\n",
    "from sklearn.metrics import roc_auc_score, classification_report, confusion_matrix, roc_curve, auc\n",
    "import matplotlib.pyplot as plt\n",
    "import seaborn as sns\n",
    "import pandas as pd\n",
    "\n",
    "# Split into train and validation\n",
    "X_train, X_val, y_train, y_val = train_test_split(\n",
    "    X_transformed, y, test_size=0.2, random_state=42, stratify=y\n",
    ")\n",
    "\n",
    "print(\"Training samples:\", X_train.shape)\n",
    "print(\"Validation samples:\", X_val.shape)\n",
    "\n",
    "# Define advanced models\n",
    "models = {\n",
    "    \"Random Forest\": RandomForestClassifier(n_estimators=200, random_state=42),\n",
    "    \"XGBoost\": XGBClassifier(use_label_encoder=False, eval_metric='logloss', random_state=42),\n",
    "    \"LightGBM\": LGBMClassifier(random_state=42)\n",
    "}\n",
    "\n",
    "results = {}\n",
    "\n",
    "for name, model in models.items():\n",
    "    print(f\"\\n🚀 Training {name}...\")\n",
    "    model.fit(X_train, y_train)\n",
    "    y_pred = model.predict(X_val)\n",
    "    y_prob = model.predict_proba(X_val)[:, 1]\n",
    "    auc_score = roc_auc_score(y_val, y_prob)\n",
    "    results[name] = auc_score\n",
    "    print(f\"{name} AUC: {auc_score:.4f}\")\n",
    "\n",
    "# Display comparison\n",
    "results_df = pd.DataFrame(list(results.items()), columns=[\"Model\", \"AUC Score\"]).sort_values(by=\"AUC Score\", ascending=False)\n",
    "\n",
    "plt.figure(figsize=(8, 5))\n",
    "sns.barplot(x=\"AUC Score\", y=\"Model\", data=results_df, palette=\"viridis\")\n",
    "plt.title(\"Advanced Model Performance Comparison (AUC)\")\n",
    "plt.show()\n",
    "\n",
    "results_df\n"
   ]
  },
  {
   "cell_type": "markdown",
   "id": "222a8f6e",
   "metadata": {},
   "source": [
    "RandomizedSearchCV for LightGBM"
   ]
  },
  {
   "cell_type": "code",
   "execution_count": 14,
   "id": "41a87d39",
   "metadata": {},
   "outputs": [
    {
     "name": "stdout",
     "output_type": "stream",
     "text": [
      "🚀 Starting LightGBM hyperparameter tuning...\n",
      "Fitting 3 folds for each of 25 candidates, totalling 75 fits\n",
      "[LightGBM] [Info] Number of positive: 2998, number of negative: 43875\n",
      "[LightGBM] [Info] Auto-choosing col-wise multi-threading, the overhead of testing was 0.012246 seconds.\n",
      "You can set `force_col_wise=true` to remove the overhead.\n",
      "[LightGBM] [Info] Total Bins 701\n",
      "[LightGBM] [Info] Number of data points in the train set: 46873, number of used features: 127\n",
      "[LightGBM] [Info] [binary:BoostFromScore]: pavg=0.063960 -> initscore=-2.683399\n",
      "[LightGBM] [Info] Start training from score -2.683399\n",
      "\n",
      "✅ Best Parameters Found:\n",
      "{'subsample': 1.0, 'num_leaves': 15, 'n_estimators': 300, 'max_depth': 15, 'learning_rate': 0.01, 'colsample_bytree': 0.8}\n",
      "Best AUC Score (CV): 0.6504\n"
     ]
    }
   ],
   "source": [
    "from sklearn.model_selection import RandomizedSearchCV\n",
    "from lightgbm import LGBMClassifier\n",
    "import numpy as np\n",
    "\n",
    "# Define parameter grid\n",
    "param_grid = {\n",
    "    'num_leaves': [15, 31, 63, 127],\n",
    "    'max_depth': [-1, 5, 10, 15, 20],\n",
    "    'learning_rate': [0.01, 0.05, 0.1, 0.2],\n",
    "    'n_estimators': [100, 200, 300, 400],\n",
    "    'subsample': [0.6, 0.8, 1.0],\n",
    "    'colsample_bytree': [0.6, 0.8, 1.0]\n",
    "}\n",
    "\n",
    "# Initialize base model\n",
    "lgbm = LGBMClassifier(random_state=42)\n",
    "\n",
    "# Randomized Search with 3-fold CV\n",
    "random_search = RandomizedSearchCV(\n",
    "    estimator=lgbm,\n",
    "    param_distributions=param_grid,\n",
    "    n_iter=25,  # number of combinations to try\n",
    "    scoring='roc_auc',\n",
    "    cv=3,\n",
    "    verbose=2,\n",
    "    random_state=42,\n",
    "    n_jobs=-1\n",
    ")\n",
    "\n",
    "print(\"🚀 Starting LightGBM hyperparameter tuning...\")\n",
    "random_search.fit(X_train, y_train)\n",
    "\n",
    "print(\"\\n✅ Best Parameters Found:\")\n",
    "print(random_search.best_params_)\n",
    "print(f\"Best AUC Score (CV): {random_search.best_score_:.4f}\")\n"
   ]
  },
  {
   "cell_type": "markdown",
   "id": "aea318ff",
   "metadata": {},
   "source": [
    "Metric\t                Value\n",
    "Best Model\t            LightGBM\n",
    "Best AUC (CV)\t        0.6504\n",
    "Top Parameters\t        num_leaves=15, max_depth=15, learning_rate=0.01, n_estimators=300, subsample=1.0, colsample_bytree=0.8"
   ]
  },
  {
   "cell_type": "markdown",
   "id": "e0c069ea",
   "metadata": {},
   "source": [
    "Evaluate Tuned Model on Validation Set"
   ]
  },
  {
   "cell_type": "code",
   "execution_count": 15,
   "id": "1fe80c7f",
   "metadata": {},
   "outputs": [
    {
     "name": "stderr",
     "output_type": "stream",
     "text": [
      "c:\\Users\\DELL\\OneDrive\\Desktop\\GuviFinalProject\\CarInsurancePrediction\\.venv\\Lib\\site-packages\\sklearn\\utils\\validation.py:2749: UserWarning: X does not have valid feature names, but LGBMClassifier was fitted with feature names\n",
      "  warnings.warn(\n",
      "c:\\Users\\DELL\\OneDrive\\Desktop\\GuviFinalProject\\CarInsurancePrediction\\.venv\\Lib\\site-packages\\sklearn\\utils\\validation.py:2749: UserWarning: X does not have valid feature names, but LGBMClassifier was fitted with feature names\n",
      "  warnings.warn(\n"
     ]
    },
    {
     "name": "stdout",
     "output_type": "stream",
     "text": [
      "Validation AUC (Tuned LightGBM): 0.6601\n",
      "\n",
      "Classification Report:\n",
      "              precision    recall  f1-score   support\n",
      "\n",
      "           0       0.94      1.00      0.97     10969\n",
      "           1       0.00      0.00      0.00       750\n",
      "\n",
      "    accuracy                           0.94     11719\n",
      "   macro avg       0.47      0.50      0.48     11719\n",
      "weighted avg       0.88      0.94      0.91     11719\n",
      "\n"
     ]
    },
    {
     "name": "stderr",
     "output_type": "stream",
     "text": [
      "c:\\Users\\DELL\\OneDrive\\Desktop\\GuviFinalProject\\CarInsurancePrediction\\.venv\\Lib\\site-packages\\sklearn\\metrics\\_classification.py:1731: UndefinedMetricWarning: Precision is ill-defined and being set to 0.0 in labels with no predicted samples. Use `zero_division` parameter to control this behavior.\n",
      "  _warn_prf(average, modifier, f\"{metric.capitalize()} is\", result.shape[0])\n",
      "c:\\Users\\DELL\\OneDrive\\Desktop\\GuviFinalProject\\CarInsurancePrediction\\.venv\\Lib\\site-packages\\sklearn\\metrics\\_classification.py:1731: UndefinedMetricWarning: Precision is ill-defined and being set to 0.0 in labels with no predicted samples. Use `zero_division` parameter to control this behavior.\n",
      "  _warn_prf(average, modifier, f\"{metric.capitalize()} is\", result.shape[0])\n",
      "c:\\Users\\DELL\\OneDrive\\Desktop\\GuviFinalProject\\CarInsurancePrediction\\.venv\\Lib\\site-packages\\sklearn\\metrics\\_classification.py:1731: UndefinedMetricWarning: Precision is ill-defined and being set to 0.0 in labels with no predicted samples. Use `zero_division` parameter to control this behavior.\n",
      "  _warn_prf(average, modifier, f\"{metric.capitalize()} is\", result.shape[0])\n"
     ]
    },
    {
     "data": {
      "image/png": "[encoded data removed]",
      "text/plain": [
       "<Figure size 640x480 with 2 Axes>"
      ]
     },
     "metadata": {},
     "output_type": "display_data"
    }
   ],
   "source": [
    "# Use the best tuned model\n",
    "best_lgbm = random_search.best_estimator_\n",
    "\n",
    "# Predict on validation data\n",
    "y_pred = best_lgbm.predict(X_val)\n",
    "y_prob = best_lgbm.predict_proba(X_val)[:, 1]\n",
    "\n",
    "# Evaluate performance\n",
    "val_auc = roc_auc_score(y_val, y_prob)\n",
    "print(f\"Validation AUC (Tuned LightGBM): {val_auc:.4f}\")\n",
    "\n",
    "print(\"\\nClassification Report:\")\n",
    "print(classification_report(y_val, y_pred))\n",
    "\n",
    "sns.heatmap(confusion_matrix(y_val, y_pred), annot=True, fmt='d', cmap='Blues')\n",
    "plt.title(\"Confusion Matrix — Tuned LightGBM\")\n",
    "plt.show()\n"
   ]
  },
  {
   "cell_type": "code",
   "execution_count": 16,
   "id": "66b8e68f",
   "metadata": {},
   "outputs": [
    {
     "name": "stdout",
     "output_type": "stream",
     "text": [
      "✅ Model and preprocessor saved successfully!\n"
     ]
    }
   ],
   "source": [
    "import joblib\n",
    "\n",
    "# Save the tuned LightGBM model\n",
    "joblib.dump(best_lgbm, \"lgbm_best_model.pkl\")\n",
    "\n",
    "# Save the preprocessor (if not already saved)\n",
    "joblib.dump(preprocessor, \"preprocessor.pkl\")\n",
    "\n",
    "print(\"✅ Model and preprocessor saved successfully!\")\n"
   ]
  }
 ],
 "metadata": {
  "kernelspec": {
   "display_name": ".venv",
   "language": "python",
   "name": "python3"
  },
  "language_info": {
   "codemirror_mode": {
    "name": "ipython",
    "version": 3
   },
   "file_extension": ".py",
   "mimetype": "text/x-python",
   "name": "python",
   "nbconvert_exporter": "python",
   "pygments_lexer": "ipython3",
   "version": "3.12.8"
  }
 },
 "nbformat": 4,
 "nbformat_minor": 5
}
